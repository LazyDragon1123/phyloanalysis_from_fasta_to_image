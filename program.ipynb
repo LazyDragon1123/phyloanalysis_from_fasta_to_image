{
 "cells": [
  {
   "cell_type": "code",
   "execution_count": 44,
   "metadata": {},
   "outputs": [],
   "source": [
    "from Bio.Align.Applications import ClustalwCommandline\n",
    "\n",
    "#coinfig\n",
    "base_file = '12_otus_97 copy'\n",
    "in_file = base_file + \".txt\"\n",
    "clustalw_cline = ClustalwCommandline(\"clustalw2\", infile=in_file)\n"
   ]
  },
  {
   "cell_type": "code",
   "execution_count": 45,
   "metadata": {},
   "outputs": [],
   "source": [
    "# clustal algorhythm\n",
    "_,__ = clustalw_cline()"
   ]
  },
  {
   "cell_type": "code",
   "execution_count": 47,
   "metadata": {},
   "outputs": [],
   "source": [
    "# pick up the order from newick file\n",
    "def OTU_extractor(string):\n",
    "    ind = string.find(':')\n",
    "    return string[:ind]\n",
    "with open(base_file + '.dnd','r') as f:\n",
    "    l_strip = [OTU_extractor(s.strip()) for s in f.readlines() if s.strip()[0] == 'O']"
   ]
  },
  {
   "cell_type": "code",
   "execution_count": 48,
   "metadata": {},
   "outputs": [],
   "source": [
    "# save as pandas frame\n",
    "import pandas as pd\n",
    "l_strip_df = pd.DataFrame(l_strip,columns=['order'])\n",
    "l_strip_df.to_csv(base_file + '_order.csv')"
   ]
  },
  {
   "cell_type": "code",
   "execution_count": 56,
   "metadata": {},
   "outputs": [],
   "source": [
    "## load data for heatmap\n",
    "# load order\n",
    "order_df = pd.read_csv(base_file + '_order.csv').loc[:,'order'].to_list()\n",
    "# load freq \n",
    "freq_df = pd.read_csv('17_otu_97_table_taxonomy_Chl_mito copy.txt', sep=\"\\t\",header=1)\n",
    "freq_df = freq_df.set_index('#OTU ID')\n",
    "# reorder \n",
    "freq_df_ordered = freq_df.reindex(index=order_df)"
   ]
  },
  {
   "cell_type": "code",
   "execution_count": 68,
   "metadata": {},
   "outputs": [],
   "source": [
    "# calculate density\n",
    "sum_freq_each_samples = []\n",
    "for col in freq_df_ordered.columns.to_list():\n",
    "    if col == 'ConsensusLineage':\n",
    "#         sum_freq_each_samples.append(0)\n",
    "        continue\n",
    "    sum_freq_each_samples.append(sum(freq_df_ordered.loc[:,col].to_list()))\n",
    "    \n",
    "density_df = pd.DataFrame(\n",
    "    columns=freq_df_ordered.columns.to_list()[:-1],\n",
    "    index=freq_df_ordered.index.to_list())\n",
    "import numpy as np\n",
    "for col,sum_col in zip(density_df.columns.to_list(), sum_freq_each_samples):\n",
    "    density = np.array(freq_df_ordered.loc[:,col].to_list()) / sum_col\n",
    "    density_df[col] = density"
   ]
  },
  {
   "cell_type": "code",
   "execution_count": 161,
   "metadata": {},
   "outputs": [],
   "source": [
    "# color map\n",
    "import matplotlib.pyplot as plt\n",
    "import numpy as np\n",
    "from matplotlib.colors import ListedColormap\n",
    "\n",
    "import os\n",
    "os.makedirs('image',exist_ok=True)\n",
    "\n",
    "for ind, _ in enumerate(density_df.columns.to_list()):\n",
    "    \n",
    "    test = density_df.iloc[:,ind].to_list()\n",
    "    x = np.linspace(0, len(test)-1, len(test))\n",
    "    y = [0,1]\n",
    "    x, y = np.meshgrid(x,y)\n",
    "\n",
    "    z = np.array([test,test])\n",
    "    plt.contourf(x,y,z, cmap='jet')\n",
    "    plt.savefig(\"image/img\" + str(ind) + \".png\")\n",
    "    plt.close()"
   ]
  }
 ],
 "metadata": {
  "kernelspec": {
   "display_name": "Python 3",
   "language": "python",
   "name": "python3"
  },
  "language_info": {
   "codemirror_mode": {
    "name": "ipython",
    "version": 3
   },
   "file_extension": ".py",
   "mimetype": "text/x-python",
   "name": "python",
   "nbconvert_exporter": "python",
   "pygments_lexer": "ipython3",
   "version": "3.8.5"
  }
 },
 "nbformat": 4,
 "nbformat_minor": 4
}
